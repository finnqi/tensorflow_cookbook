{
 "cells": [
  {
   "cell_type": "code",
   "execution_count": null,
   "metadata": {},
   "outputs": [],
   "source": [
    "#这里的张量为什么不需要创建为变量\n",
    "import tensorflow as tf\n",
    "h = tf.constant(\"hello\")\n",
    "w = tf.constant(\" world\")\n",
    "hw = h+w\n",
    "print(hw)\n",
    "sess = tf.Session()\n",
    "ans = sess.run(hw)\n",
    "print(ans)\n",
    "\n",
    "hv = tf.Variable(h)\n",
    "wv = tf.Variable(w)\n",
    "init = tf.global_variables_initializer()\n",
    "sess.run(init)\n",
    "ansv = sess.run(hv+wv)\n",
    "print(ansv)"
   ]
  }
 ],
 "metadata": {
  "kernelspec": {
   "display_name": "Python 3",
   "language": "python",
   "name": "python3"
  },
  "language_info": {
   "codemirror_mode": {
    "name": "ipython",
    "version": 3
   },
   "file_extension": ".py",
   "mimetype": "text/x-python",
   "name": "python",
   "nbconvert_exporter": "python",
   "pygments_lexer": "ipython3",
   "version": "3.7.4"
  }
 },
 "nbformat": 4,
 "nbformat_minor": 2
}
